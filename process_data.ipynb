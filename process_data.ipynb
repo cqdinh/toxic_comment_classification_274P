{
 "cells": [
  {
   "cell_type": "code",
   "execution_count": 1,
   "metadata": {},
   "outputs": [],
   "source": [
    "import numpy as np\n",
    "import torch\n",
    "from torch import nn\n",
    "import math\n",
    "from pprint import pprint\n",
    "import pandas as pd\n",
    "from tqdm.notebook import tqdm\n",
    "import seaborn as sns\n",
    "import matplotlib.pyplot as plt\n",
    "\n",
    "%matplotlib inline"
   ]
  },
  {
   "cell_type": "markdown",
   "metadata": {},
   "source": [
    "Load the data"
   ]
  },
  {
   "cell_type": "code",
   "execution_count": 2,
   "metadata": {},
   "outputs": [],
   "source": [
    "train = pd.read_csv(\"./train.csv\")\n",
    "test_comments = pd.read_csv(\"./test.csv\")\n",
    "test_labels = pd.read_csv(\"./test_labels.csv\")"
   ]
  },
  {
   "cell_type": "markdown",
   "metadata": {},
   "source": [
    "Combine the test_comments and test_labels"
   ]
  },
  {
   "cell_type": "code",
   "execution_count": 3,
   "metadata": {},
   "outputs": [],
   "source": [
    "test = pd.merge(test_comments, test_labels, on=\"id\")"
   ]
  },
  {
   "cell_type": "markdown",
   "metadata": {},
   "source": [
    "Remove -1 values indicating that an output isn't used for scoring and add a column that is 1 when all other labels are 0."
   ]
  },
  {
   "cell_type": "code",
   "execution_count": 4,
   "metadata": {},
   "outputs": [
    {
     "data": {
      "text/html": [
       "<div>\n",
       "<style scoped>\n",
       "    .dataframe tbody tr th:only-of-type {\n",
       "        vertical-align: middle;\n",
       "    }\n",
       "\n",
       "    .dataframe tbody tr th {\n",
       "        vertical-align: top;\n",
       "    }\n",
       "\n",
       "    .dataframe thead th {\n",
       "        text-align: right;\n",
       "    }\n",
       "</style>\n",
       "<table border=\"1\" class=\"dataframe\">\n",
       "  <thead>\n",
       "    <tr style=\"text-align: right;\">\n",
       "      <th></th>\n",
       "      <th>id</th>\n",
       "      <th>comment_text</th>\n",
       "      <th>toxic</th>\n",
       "      <th>severe_toxic</th>\n",
       "      <th>obscene</th>\n",
       "      <th>threat</th>\n",
       "      <th>insult</th>\n",
       "      <th>identity_hate</th>\n",
       "      <th>nontoxic</th>\n",
       "    </tr>\n",
       "  </thead>\n",
       "  <tbody>\n",
       "    <tr>\n",
       "      <th>0</th>\n",
       "      <td>00001cee341fdb12</td>\n",
       "      <td>Yo bitch Ja Rule is more succesful then you'll...</td>\n",
       "      <td>0</td>\n",
       "      <td>0</td>\n",
       "      <td>0</td>\n",
       "      <td>0</td>\n",
       "      <td>0</td>\n",
       "      <td>0</td>\n",
       "      <td>1</td>\n",
       "    </tr>\n",
       "    <tr>\n",
       "      <th>1</th>\n",
       "      <td>0000247867823ef7</td>\n",
       "      <td>== From RfC == \\n\\n The title is fine as it is...</td>\n",
       "      <td>0</td>\n",
       "      <td>0</td>\n",
       "      <td>0</td>\n",
       "      <td>0</td>\n",
       "      <td>0</td>\n",
       "      <td>0</td>\n",
       "      <td>1</td>\n",
       "    </tr>\n",
       "    <tr>\n",
       "      <th>2</th>\n",
       "      <td>00013b17ad220c46</td>\n",
       "      <td>\" \\n\\n == Sources == \\n\\n * Zawe Ashton on Lap...</td>\n",
       "      <td>0</td>\n",
       "      <td>0</td>\n",
       "      <td>0</td>\n",
       "      <td>0</td>\n",
       "      <td>0</td>\n",
       "      <td>0</td>\n",
       "      <td>1</td>\n",
       "    </tr>\n",
       "    <tr>\n",
       "      <th>3</th>\n",
       "      <td>00017563c3f7919a</td>\n",
       "      <td>:If you have a look back at the source, the in...</td>\n",
       "      <td>0</td>\n",
       "      <td>0</td>\n",
       "      <td>0</td>\n",
       "      <td>0</td>\n",
       "      <td>0</td>\n",
       "      <td>0</td>\n",
       "      <td>1</td>\n",
       "    </tr>\n",
       "    <tr>\n",
       "      <th>4</th>\n",
       "      <td>00017695ad8997eb</td>\n",
       "      <td>I don't anonymously edit articles at all.</td>\n",
       "      <td>0</td>\n",
       "      <td>0</td>\n",
       "      <td>0</td>\n",
       "      <td>0</td>\n",
       "      <td>0</td>\n",
       "      <td>0</td>\n",
       "      <td>1</td>\n",
       "    </tr>\n",
       "    <tr>\n",
       "      <th>...</th>\n",
       "      <td>...</td>\n",
       "      <td>...</td>\n",
       "      <td>...</td>\n",
       "      <td>...</td>\n",
       "      <td>...</td>\n",
       "      <td>...</td>\n",
       "      <td>...</td>\n",
       "      <td>...</td>\n",
       "      <td>...</td>\n",
       "    </tr>\n",
       "    <tr>\n",
       "      <th>153159</th>\n",
       "      <td>fffcd0960ee309b5</td>\n",
       "      <td>. \\n i totally agree, this stuff is nothing bu...</td>\n",
       "      <td>0</td>\n",
       "      <td>0</td>\n",
       "      <td>0</td>\n",
       "      <td>0</td>\n",
       "      <td>0</td>\n",
       "      <td>0</td>\n",
       "      <td>1</td>\n",
       "    </tr>\n",
       "    <tr>\n",
       "      <th>153160</th>\n",
       "      <td>fffd7a9a6eb32c16</td>\n",
       "      <td>== Throw from out field to home plate. == \\n\\n...</td>\n",
       "      <td>0</td>\n",
       "      <td>0</td>\n",
       "      <td>0</td>\n",
       "      <td>0</td>\n",
       "      <td>0</td>\n",
       "      <td>0</td>\n",
       "      <td>1</td>\n",
       "    </tr>\n",
       "    <tr>\n",
       "      <th>153161</th>\n",
       "      <td>fffda9e8d6fafa9e</td>\n",
       "      <td>\" \\n\\n == Okinotorishima categories == \\n\\n I ...</td>\n",
       "      <td>0</td>\n",
       "      <td>0</td>\n",
       "      <td>0</td>\n",
       "      <td>0</td>\n",
       "      <td>0</td>\n",
       "      <td>0</td>\n",
       "      <td>1</td>\n",
       "    </tr>\n",
       "    <tr>\n",
       "      <th>153162</th>\n",
       "      <td>fffe8f1340a79fc2</td>\n",
       "      <td>\" \\n\\n == \"\"One of the founding nations of the...</td>\n",
       "      <td>0</td>\n",
       "      <td>0</td>\n",
       "      <td>0</td>\n",
       "      <td>0</td>\n",
       "      <td>0</td>\n",
       "      <td>0</td>\n",
       "      <td>1</td>\n",
       "    </tr>\n",
       "    <tr>\n",
       "      <th>153163</th>\n",
       "      <td>ffffce3fb183ee80</td>\n",
       "      <td>\" \\n :::Stop already. Your bullshit is not wel...</td>\n",
       "      <td>0</td>\n",
       "      <td>0</td>\n",
       "      <td>0</td>\n",
       "      <td>0</td>\n",
       "      <td>0</td>\n",
       "      <td>0</td>\n",
       "      <td>1</td>\n",
       "    </tr>\n",
       "  </tbody>\n",
       "</table>\n",
       "<p>153164 rows × 9 columns</p>\n",
       "</div>"
      ],
      "text/plain": [
       "                      id                                       comment_text  \\\n",
       "0       00001cee341fdb12  Yo bitch Ja Rule is more succesful then you'll...   \n",
       "1       0000247867823ef7  == From RfC == \\n\\n The title is fine as it is...   \n",
       "2       00013b17ad220c46  \" \\n\\n == Sources == \\n\\n * Zawe Ashton on Lap...   \n",
       "3       00017563c3f7919a  :If you have a look back at the source, the in...   \n",
       "4       00017695ad8997eb          I don't anonymously edit articles at all.   \n",
       "...                  ...                                                ...   \n",
       "153159  fffcd0960ee309b5  . \\n i totally agree, this stuff is nothing bu...   \n",
       "153160  fffd7a9a6eb32c16  == Throw from out field to home plate. == \\n\\n...   \n",
       "153161  fffda9e8d6fafa9e  \" \\n\\n == Okinotorishima categories == \\n\\n I ...   \n",
       "153162  fffe8f1340a79fc2  \" \\n\\n == \"\"One of the founding nations of the...   \n",
       "153163  ffffce3fb183ee80  \" \\n :::Stop already. Your bullshit is not wel...   \n",
       "\n",
       "        toxic  severe_toxic  obscene  threat  insult  identity_hate  nontoxic  \n",
       "0           0             0        0       0       0              0         1  \n",
       "1           0             0        0       0       0              0         1  \n",
       "2           0             0        0       0       0              0         1  \n",
       "3           0             0        0       0       0              0         1  \n",
       "4           0             0        0       0       0              0         1  \n",
       "...       ...           ...      ...     ...     ...            ...       ...  \n",
       "153159      0             0        0       0       0              0         1  \n",
       "153160      0             0        0       0       0              0         1  \n",
       "153161      0             0        0       0       0              0         1  \n",
       "153162      0             0        0       0       0              0         1  \n",
       "153163      0             0        0       0       0              0         1  \n",
       "\n",
       "[153164 rows x 9 columns]"
      ]
     },
     "execution_count": 4,
     "metadata": {},
     "output_type": "execute_result"
    }
   ],
   "source": [
    "test.toxic = test_labels.toxic.clip(0)\n",
    "test.severe_toxic = test_labels.severe_toxic.clip(0)\n",
    "test.obscene = test_labels.obscene.clip(0)\n",
    "test.threat = test_labels.threat.clip(0)\n",
    "test.insult = test_labels.insult.clip(0)\n",
    "test.identity_hate = test_labels.identity_hate.clip(0)\n",
    "\n",
    "def make_nontoxic(df):\n",
    "    df[\"nontoxic\"] = (1-df.toxic) * (1-df.severe_toxic) * (1 - df.obscene) * (1 - df.threat) * (1 - df.insult)\n",
    "\n",
    "make_nontoxic(train)\n",
    "make_nontoxic(test)\n",
    "test"
   ]
  },
  {
   "cell_type": "markdown",
   "metadata": {},
   "source": [
    "Summarize the training set"
   ]
  },
  {
   "cell_type": "code",
   "execution_count": 16,
   "metadata": {},
   "outputs": [
    {
     "name": "stdout",
     "output_type": "stream",
     "text": [
      "Training set\n",
      "143400 / 159571 = 89.8660% are non-toxic\n",
      " 15294 / 159571 = 9.5844% are toxic\n",
      "  1595 / 159571 = 0.9996% are severely toxic\n",
      "  8449 / 159571 = 5.2948% are obscene\n",
      "   478 / 159571 = 0.2996% are threats\n",
      "  7877 / 159571 = 4.9364% are insults\n",
      "  1405 / 159571 = 0.8805% are identity-based hate\n",
      "\n",
      "Test set\n",
      "146935 / 153164 = 95.9331% are non-toxic\n",
      "  6090 / 153164 = 3.9761% are toxic\n",
      "   367 / 153164 = 0.2396% are severely toxic\n",
      "  3691 / 153164 = 2.4098% are obscene\n",
      "   211 / 153164 = 0.1378% are threats\n",
      "  3427 / 153164 = 2.2375% are insults\n",
      "   712 / 153164 = 0.4649% are identity-based hate\n"
     ]
    }
   ],
   "source": [
    "def summarize_probs(df):\n",
    "    n_toxic = df.toxic.sum()\n",
    "    n_severe_toxic = df.severe_toxic.sum()\n",
    "    n_obscene = df.obscene.sum()\n",
    "    n_threat = df.threat.sum()\n",
    "    n_insult = df.insult.sum()\n",
    "    n_identity_hate = df.identity_hate.sum()\n",
    "    n = len(df)\n",
    "\n",
    "    n_nontoxic = df.nontoxic.sum()\n",
    "\n",
    "    print(\"{:6d} / {} = {:.04f}% are non-toxic\".format(n_nontoxic, n, n_nontoxic*100 / n))\n",
    "\n",
    "    print(\"{:6d} / {} = {:.04f}% are toxic\".format(n_toxic, n, n_toxic*100 / n))\n",
    "    print(\"{:6d} / {} = {:.04f}% are severely toxic\".format(n_severe_toxic, n, n_severe_toxic*100 / n))\n",
    "    print(\"{:6d} / {} = {:.04f}% are obscene\".format(n_obscene, n, n_obscene*100 / n))\n",
    "    print(\"{:6d} / {} = {:.04f}% are threats\".format(n_threat, n, n_threat*100 / n))\n",
    "    print(\"{:6d} / {} = {:.04f}% are insults\".format(n_insult, n, n_insult*100 / n))\n",
    "    print(\"{:6d} / {} = {:.04f}% are identity-based hate\".format(n_identity_hate, n, n_identity_hate*100 / n))\n",
    "\n",
    "print(\"Training set\")\n",
    "summarize_probs(train)\n",
    "print()\n",
    "print(\"Test set\")\n",
    "summarize_probs(test)"
   ]
  },
  {
   "cell_type": "code",
   "execution_count": 17,
   "metadata": {},
   "outputs": [
    {
     "data": {
      "text/plain": [
       "0.10428926376356741"
      ]
     },
     "execution_count": 17,
     "metadata": {},
     "output_type": "execute_result"
    }
   ],
   "source": [
    "def joint(a, b):\n",
    "    return (train[a]*train[b]).sum() / len(train)\n",
    "\n",
    "def conditional(a, b):\n",
    "    p_b = train[b].sum() / len(train)\n",
    "    return joint(a, b) / p_b\n",
    "\n",
    "conditional(\"severe_toxic\", \"toxic\")"
   ]
  },
  {
   "cell_type": "code",
   "execution_count": 27,
   "metadata": {},
   "outputs": [
    {
     "ename": "NameError",
     "evalue": "name 'joint' is not defined",
     "output_type": "error",
     "traceback": [
      "\u001b[0;31m---------------------------------------------------------------------------\u001b[0m",
      "\u001b[0;31mNameError\u001b[0m                                 Traceback (most recent call last)",
      "\u001b[0;32m<ipython-input-27-555430e5df3f>\u001b[0m in \u001b[0;36m<module>\u001b[0;34m\u001b[0m\n\u001b[1;32m      2\u001b[0m \u001b[0;32mfor\u001b[0m \u001b[0mi\u001b[0m \u001b[0;32min\u001b[0m \u001b[0mrange\u001b[0m\u001b[0;34m(\u001b[0m\u001b[0mlen\u001b[0m\u001b[0;34m(\u001b[0m\u001b[0mcolumns\u001b[0m\u001b[0;34m)\u001b[0m\u001b[0;34m)\u001b[0m\u001b[0;34m:\u001b[0m\u001b[0;34m\u001b[0m\u001b[0;34m\u001b[0m\u001b[0m\n\u001b[1;32m      3\u001b[0m   \u001b[0;32mfor\u001b[0m \u001b[0mj\u001b[0m \u001b[0;32min\u001b[0m \u001b[0mrange\u001b[0m\u001b[0;34m(\u001b[0m\u001b[0mi\u001b[0m\u001b[0;34m,\u001b[0m \u001b[0mlen\u001b[0m\u001b[0;34m(\u001b[0m\u001b[0mcolumns\u001b[0m\u001b[0;34m)\u001b[0m\u001b[0;34m)\u001b[0m\u001b[0;34m:\u001b[0m\u001b[0;34m\u001b[0m\u001b[0;34m\u001b[0m\u001b[0m\n\u001b[0;32m----> 4\u001b[0;31m     \u001b[0mprint\u001b[0m\u001b[0;34m(\u001b[0m\u001b[0;34m\"P({}, {}) = {:04f}%\"\u001b[0m\u001b[0;34m.\u001b[0m\u001b[0mformat\u001b[0m\u001b[0;34m(\u001b[0m\u001b[0mcolumns\u001b[0m\u001b[0;34m[\u001b[0m\u001b[0mi\u001b[0m\u001b[0;34m]\u001b[0m\u001b[0;34m,\u001b[0m \u001b[0mcolumns\u001b[0m\u001b[0;34m[\u001b[0m\u001b[0mj\u001b[0m\u001b[0;34m]\u001b[0m\u001b[0;34m,\u001b[0m \u001b[0;36m100\u001b[0m\u001b[0;34m*\u001b[0m\u001b[0mjoint\u001b[0m\u001b[0;34m(\u001b[0m\u001b[0mcolumns\u001b[0m\u001b[0;34m[\u001b[0m\u001b[0mi\u001b[0m\u001b[0;34m]\u001b[0m\u001b[0;34m,\u001b[0m \u001b[0mcolumns\u001b[0m\u001b[0;34m[\u001b[0m\u001b[0mj\u001b[0m\u001b[0;34m]\u001b[0m\u001b[0;34m)\u001b[0m\u001b[0;34m)\u001b[0m\u001b[0;34m)\u001b[0m\u001b[0;34m\u001b[0m\u001b[0;34m\u001b[0m\u001b[0m\n\u001b[0m",
      "\u001b[0;31mNameError\u001b[0m: name 'joint' is not defined"
     ]
    }
   ],
   "source": [
    "columns = [\"toxic\", \"severe_toxic\", \"obscene\", \"threat\", \"insult\", \"identity_hate\"]\n",
    "for i in range(len(columns)):\n",
    "    for j in range(i, len(columns)):\n",
    "        print(\"P({}, {}) = {:04f}%\".format(columns[i], columns[j], 100*joint(columns[i], columns[j])))"
   ]
  },
  {
   "cell_type": "code",
   "execution_count": 31,
   "metadata": {},
   "outputs": [
    {
     "name": "stdout",
     "output_type": "stream",
     "text": [
      "[0. 0. 0. 0. 0. 0.]: 89.8321%\n",
      "[0. 0. 0. 0. 0. 1.]: 0.0338%\n",
      "[0. 0. 0. 0. 1. 0.]: 0.1886%\n",
      "[0. 0. 0. 0. 1. 1.]: 0.0175%\n",
      "[0. 0. 0. 1. 0. 0.]: 0.0138%\n",
      "[0. 0. 0. 1. 1. 0.]: 0.0019%\n",
      "[0. 0. 1. 0. 0. 0.]: 0.1987%\n",
      "[0. 0. 1. 0. 0. 1.]: 0.0019%\n",
      "[0. 0. 1. 0. 1. 0.]: 0.1134%\n",
      "[0. 0. 1. 0. 1. 1.]: 0.0113%\n",
      "[0. 0. 1. 1. 0. 0.]: 0.0013%\n",
      "[0. 0. 1. 1. 1. 0.]: 0.0013%\n",
      "[1. 0. 0. 0. 0. 0.]: 3.5508%\n",
      "[1. 0. 0. 0. 0. 1.]: 0.0852%\n",
      "[1. 0. 0. 0. 1. 0.]: 0.7614%\n",
      "[1. 0. 0. 0. 1. 1.]: 0.0840%\n",
      "[1. 0. 0. 1. 0. 0.]: 0.0708%\n",
      "[1. 0. 0. 1. 0. 1.]: 0.0044%\n",
      "[1. 0. 0. 1. 1. 0.]: 0.0100%\n",
      "[1. 0. 0. 1. 1. 1.]: 0.0019%\n",
      "[1. 0. 1. 0. 0. 0.]: 1.1017%\n",
      "[1. 0. 1. 0. 0. 1.]: 0.0219%\n",
      "[1. 0. 1. 0. 1. 0.]: 2.3814%\n",
      "[1. 0. 1. 0. 1. 1.]: 0.3873%\n",
      "[1. 0. 1. 1. 0. 0.]: 0.0069%\n",
      "[1. 0. 1. 1. 1. 0.]: 0.0821%\n",
      "[1. 0. 1. 1. 1. 1.]: 0.0351%\n",
      "[1. 1. 0. 0. 0. 0.]: 0.0257%\n",
      "[1. 1. 0. 0. 0. 1.]: 0.0019%\n",
      "[1. 1. 0. 0. 1. 0.]: 0.0088%\n",
      "[1. 1. 0. 0. 1. 1.]: 0.0044%\n",
      "[1. 1. 0. 1. 0. 0.]: 0.0069%\n",
      "[1. 1. 0. 1. 0. 1.]: 0.0006%\n",
      "[1. 1. 0. 1. 1. 0.]: 0.0006%\n",
      "[1. 1. 1. 0. 0. 0.]: 0.0990%\n",
      "[1. 1. 1. 0. 0. 1.]: 0.0038%\n",
      "[1. 1. 1. 0. 1. 0.]: 0.6198%\n",
      "[1. 1. 1. 0. 1. 1.]: 0.1661%\n",
      "[1. 1. 1. 1. 0. 0.]: 0.0025%\n",
      "[1. 1. 1. 1. 1. 0.]: 0.0401%\n",
      "[1. 1. 1. 1. 1. 1.]: 0.0194%\n"
     ]
    }
   ],
   "source": [
    "keys = np.zeros((2**6, 6))\n",
    "\n",
    "counts = np.zeros(2**6)\n",
    "for row in train[columns].to_numpy():\n",
    "    index = 0\n",
    "    for i in range(6):\n",
    "        index += row[i]*2**(5-i)\n",
    "    keys[index] = row\n",
    "    counts[index] += 1\n",
    "keys = keys[counts != 0]\n",
    "counts = counts[counts != 0]\n",
    "\n",
    "for i in range(counts.shape[0]):\n",
    "    print(\"{}: {:.04f}%\".format(keys[i], 100 * counts[i] / len(train)))"
   ]
  },
  {
   "cell_type": "markdown",
   "metadata": {},
   "source": [
    "Describe the comment text data"
   ]
  },
  {
   "cell_type": "code",
   "execution_count": 32,
   "metadata": {},
   "outputs": [
    {
     "data": {
      "text/plain": [
       "count    159571.000000\n",
       "mean        394.073221\n",
       "std         590.720282\n",
       "min           6.000000\n",
       "25%          96.000000\n",
       "50%         205.000000\n",
       "75%         435.000000\n",
       "max        5000.000000\n",
       "Name: comment_text, dtype: float64"
      ]
     },
     "execution_count": 32,
     "metadata": {},
     "output_type": "execute_result"
    }
   ],
   "source": [
    "train.comment_text.str.len().describe()"
   ]
  },
  {
   "cell_type": "code",
   "execution_count": 33,
   "metadata": {},
   "outputs": [
    {
     "data": {
      "text/plain": [
       "count    159571.000000\n",
       "mean        394.073221\n",
       "std         590.720282\n",
       "min           6.000000\n",
       "25%          96.000000\n",
       "50%         205.000000\n",
       "75%         435.000000\n",
       "max        5000.000000\n",
       "Name: comment_text, dtype: float64"
      ]
     },
     "execution_count": 33,
     "metadata": {},
     "output_type": "execute_result"
    }
   ],
   "source": [
    "train.comment_text.str.len().describe()"
   ]
  },
  {
   "cell_type": "code",
   "execution_count": 34,
   "metadata": {},
   "outputs": [
    {
     "data": {
      "text/plain": [
       "Text(0.5, 1.0, 'Overall Length Distribution')"
      ]
     },
     "execution_count": 34,
     "metadata": {},
     "output_type": "execute_result"
    },
    {
     "data": {
      "image/png": "[encoded data removed]",
      "text/plain": [
       "<Figure size 432x288 with 1 Axes>"
      ]
     },
     "metadata": {
      "needs_background": "light"
     },
     "output_type": "display_data"
    }
   ],
   "source": [
    "sns.distplot(train.comment_text.str.len(), hist=False, bins=100, label=\"Train\")\n",
    "sns.distplot(test.comment_text.str.len(), hist=False, bins=100, label=\"Test\")\n",
    "train.comment_text.str.len().max()\n",
    "plt.xscale(\"log\")\n",
    "plt.xlabel(\"Comment Length\")\n",
    "plt.ylabel(\"Frequency\")\n",
    "plt.title(\"Overall Length Distribution\")"
   ]
  },
  {
   "cell_type": "code",
   "execution_count": 35,
   "metadata": {},
   "outputs": [
    {
     "name": "stdout",
     "output_type": "stream",
     "text": [
      "394.0732213246768\n"
     ]
    },
    {
     "data": {
      "text/plain": [
       "<matplotlib.axes._subplots.AxesSubplot at 0x7fe046daa790>"
      ]
     },
     "execution_count": 35,
     "metadata": {},
     "output_type": "execute_result"
    },
    {
     "data": {
      "image/png": "[encoded data removed]",
      "text/plain": [
       "<Figure size 432x288 with 1 Axes>"
      ]
     },
     "metadata": {
      "needs_background": "light"
     },
     "output_type": "display_data"
    }
   ],
   "source": [
    "print(train.comment_text.str.len().mean())\n",
    "plt.xscale(\"log\")\n",
    "plt.xlabel(\"Comment Length\")\n",
    "plt.ylabel(\"Frequency\")\n",
    "plt.title(\"Length Distribution per Label\")\n",
    "sns.distplot(train.comment_text[train.nontoxic == 1].str.len(), hist=False, bins=100, label=\"Nontoxic\")\n",
    "sns.distplot(train.comment_text[train.toxic == 1].str.len(), hist=False, bins=100, label=\"Toxic\")\n",
    "sns.distplot(train.comment_text[train.severe_toxic == 1].str.len(), hist=False, bins=100, label=\"Severely Toxic\")\n",
    "sns.distplot(train.comment_text[train.obscene == 1].str.len(), hist=False, bins=100, label=\"Obscene\")\n",
    "sns.distplot(train.comment_text[train.threat == 1].str.len(), hist=False, bins=100, label=\"Threat\")\n",
    "sns.distplot(train.comment_text[train.insult == 1].str.len(), hist=False, bins=100, label=\"Insult\")\n",
    "sns.distplot(train.comment_text[train.identity_hate == 1].str.len(), hist=False, bins=100, label=\"Identity-based Hate\")"
   ]
  },
  {
   "cell_type": "code",
   "execution_count": 36,
   "metadata": {},
   "outputs": [
    {
     "data": {
      "text/plain": [
       "Text(0, 0.5, 'Frequency')"
      ]
     },
     "execution_count": 36,
     "metadata": {},
     "output_type": "execute_result"
    },
    {
     "data": {
      "image/png": "[encoded data removed]",
      "text/plain": [
       "<Figure size 432x288 with 1 Axes>"
      ]
     },
     "metadata": {
      "needs_background": "light"
     },
     "output_type": "display_data"
    }
   ],
   "source": [
    "def plot_counts(regex):\n",
    "    plt.xscale(\"log\")\n",
    "    sns.distplot(train.comment_text.str.count(regex), hist=False, bins=100, label=\"All Comments\")\n",
    "    sns.distplot(train.comment_text[train.nontoxic == 1].str.count(regex), hist=False, bins=100, label=\"Nontoxic\")\n",
    "    sns.distplot(train.comment_text[train.toxic == 1].str.count(regex), hist=False, bins=100, label=\"Toxic\")\n",
    "    sns.distplot(train.comment_text[train.severe_toxic == 1].str.count(regex), hist=False, bins=100, label=\"Severely Toxic\")\n",
    "    sns.distplot(train.comment_text[train.obscene == 1].str.count(regex), hist=False, bins=100, label=\"Obscene\")\n",
    "    sns.distplot(train.comment_text[train.threat == 1].str.count(regex), hist=False, bins=100, label=\"Threat\")\n",
    "    sns.distplot(train.comment_text[train.insult == 1].str.count(regex), hist=False, bins=100, label=\"Insult\")\n",
    "    sns.distplot(train.comment_text[train.identity_hate == 1].str.count(regex), hist=False, bins=100, label=\"Identity-based Hate\")\n",
    "plot_counts(\"\\n\")\n",
    "plt.xlabel(\"Count of \\\\n\")\n",
    "plt.ylabel(\"Frequency\")"
   ]
  },
  {
   "cell_type": "code",
   "execution_count": 41,
   "metadata": {},
   "outputs": [
    {
     "data": {
      "text/plain": [
       "Text(0, 0.5, 'Frequency')"
      ]
     },
     "execution_count": 41,
     "metadata": {},
     "output_type": "execute_result"
    },
    {
     "data": {
      "image/png": "[encoded data removed]",
      "text/plain": [
       "<Figure size 432x288 with 1 Axes>"
      ]
     },
     "metadata": {
      "needs_background": "light"
     },
     "output_type": "display_data"
    }
   ],
   "source": [
    "plot_counts(\"A\")\n",
    "plt.xlabel(\"Count of A\")\n",
    "plt.ylabel(\"Frequency\")"
   ]
  },
  {
   "cell_type": "code",
   "execution_count": 42,
   "metadata": {},
   "outputs": [
    {
     "data": {
      "text/plain": [
       "Text(0, 0.5, 'Frequency')"
      ]
     },
     "execution_count": 42,
     "metadata": {},
     "output_type": "execute_result"
    },
    {
     "data": {
      "image/png": "[encoded data removed]",
      "text/plain": [
       "<Figure size 432x288 with 1 Axes>"
      ]
     },
     "metadata": {
      "needs_background": "light"
     },
     "output_type": "display_data"
    }
   ],
   "source": [
    "plot_counts(\"a\")\n",
    "plt.xlabel(\"Count of a\")\n",
    "plt.ylabel(\"Frequency\")"
   ]
  },
  {
   "cell_type": "code",
   "execution_count": 43,
   "metadata": {},
   "outputs": [
    {
     "data": {
      "text/html": [
       "<div>\n",
       "<style scoped>\n",
       "    .dataframe tbody tr th:only-of-type {\n",
       "        vertical-align: middle;\n",
       "    }\n",
       "\n",
       "    .dataframe tbody tr th {\n",
       "        vertical-align: top;\n",
       "    }\n",
       "\n",
       "    .dataframe thead th {\n",
       "        text-align: right;\n",
       "    }\n",
       "</style>\n",
       "<table border=\"1\" class=\"dataframe\">\n",
       "  <thead>\n",
       "    <tr style=\"text-align: right;\">\n",
       "      <th></th>\n",
       "      <th>a</th>\n",
       "      <th>b</th>\n",
       "      <th>c</th>\n",
       "      <th>d</th>\n",
       "      <th>e</th>\n",
       "      <th>f</th>\n",
       "      <th>g</th>\n",
       "      <th>h</th>\n",
       "      <th>i</th>\n",
       "      <th>j</th>\n",
       "      <th>...</th>\n",
       "      <th>,</th>\n",
       "      <th>&lt;</th>\n",
       "      <th>\\.</th>\n",
       "      <th>&gt;</th>\n",
       "      <th>/</th>\n",
       "      <th>\\?</th>\n",
       "      <th>\\\\</th>\n",
       "      <th></th>\n",
       "      <th>\\n</th>\n",
       "      <th>\\t</th>\n",
       "    </tr>\n",
       "  </thead>\n",
       "  <tbody>\n",
       "    <tr>\n",
       "      <th>0</th>\n",
       "      <td>16</td>\n",
       "      <td>0</td>\n",
       "      <td>4</td>\n",
       "      <td>10</td>\n",
       "      <td>33</td>\n",
       "      <td>2</td>\n",
       "      <td>1</td>\n",
       "      <td>5</td>\n",
       "      <td>6</td>\n",
       "      <td>1</td>\n",
       "      <td>...</td>\n",
       "      <td>1</td>\n",
       "      <td>0</td>\n",
       "      <td>5</td>\n",
       "      <td>0</td>\n",
       "      <td>0</td>\n",
       "      <td>1</td>\n",
       "      <td>0</td>\n",
       "      <td>41</td>\n",
       "      <td>1</td>\n",
       "      <td>0</td>\n",
       "    </tr>\n",
       "    <tr>\n",
       "      <th>1</th>\n",
       "      <td>7</td>\n",
       "      <td>1</td>\n",
       "      <td>4</td>\n",
       "      <td>1</td>\n",
       "      <td>4</td>\n",
       "      <td>0</td>\n",
       "      <td>2</td>\n",
       "      <td>4</td>\n",
       "      <td>3</td>\n",
       "      <td>0</td>\n",
       "      <td>...</td>\n",
       "      <td>2</td>\n",
       "      <td>0</td>\n",
       "      <td>2</td>\n",
       "      <td>0</td>\n",
       "      <td>0</td>\n",
       "      <td>0</td>\n",
       "      <td>0</td>\n",
       "      <td>17</td>\n",
       "      <td>0</td>\n",
       "      <td>0</td>\n",
       "    </tr>\n",
       "    <tr>\n",
       "      <th>2</th>\n",
       "      <td>18</td>\n",
       "      <td>1</td>\n",
       "      <td>3</td>\n",
       "      <td>4</td>\n",
       "      <td>17</td>\n",
       "      <td>4</td>\n",
       "      <td>7</td>\n",
       "      <td>7</td>\n",
       "      <td>12</td>\n",
       "      <td>1</td>\n",
       "      <td>...</td>\n",
       "      <td>1</td>\n",
       "      <td>0</td>\n",
       "      <td>3</td>\n",
       "      <td>0</td>\n",
       "      <td>0</td>\n",
       "      <td>0</td>\n",
       "      <td>0</td>\n",
       "      <td>41</td>\n",
       "      <td>0</td>\n",
       "      <td>0</td>\n",
       "    </tr>\n",
       "    <tr>\n",
       "      <th>3</th>\n",
       "      <td>39</td>\n",
       "      <td>5</td>\n",
       "      <td>15</td>\n",
       "      <td>14</td>\n",
       "      <td>72</td>\n",
       "      <td>16</td>\n",
       "      <td>7</td>\n",
       "      <td>12</td>\n",
       "      <td>30</td>\n",
       "      <td>0</td>\n",
       "      <td>...</td>\n",
       "      <td>2</td>\n",
       "      <td>0</td>\n",
       "      <td>3</td>\n",
       "      <td>0</td>\n",
       "      <td>0</td>\n",
       "      <td>0</td>\n",
       "      <td>0</td>\n",
       "      <td>111</td>\n",
       "      <td>4</td>\n",
       "      <td>0</td>\n",
       "    </tr>\n",
       "    <tr>\n",
       "      <th>4</th>\n",
       "      <td>5</td>\n",
       "      <td>1</td>\n",
       "      <td>2</td>\n",
       "      <td>0</td>\n",
       "      <td>7</td>\n",
       "      <td>0</td>\n",
       "      <td>1</td>\n",
       "      <td>4</td>\n",
       "      <td>1</td>\n",
       "      <td>0</td>\n",
       "      <td>...</td>\n",
       "      <td>2</td>\n",
       "      <td>0</td>\n",
       "      <td>1</td>\n",
       "      <td>0</td>\n",
       "      <td>0</td>\n",
       "      <td>1</td>\n",
       "      <td>0</td>\n",
       "      <td>12</td>\n",
       "      <td>0</td>\n",
       "      <td>0</td>\n",
       "    </tr>\n",
       "    <tr>\n",
       "      <th>...</th>\n",
       "      <td>...</td>\n",
       "      <td>...</td>\n",
       "      <td>...</td>\n",
       "      <td>...</td>\n",
       "      <td>...</td>\n",
       "      <td>...</td>\n",
       "      <td>...</td>\n",
       "      <td>...</td>\n",
       "      <td>...</td>\n",
       "      <td>...</td>\n",
       "      <td>...</td>\n",
       "      <td>...</td>\n",
       "      <td>...</td>\n",
       "      <td>...</td>\n",
       "      <td>...</td>\n",
       "      <td>...</td>\n",
       "      <td>...</td>\n",
       "      <td>...</td>\n",
       "      <td>...</td>\n",
       "      <td>...</td>\n",
       "      <td>...</td>\n",
       "    </tr>\n",
       "    <tr>\n",
       "      <th>159566</th>\n",
       "      <td>13</td>\n",
       "      <td>1</td>\n",
       "      <td>12</td>\n",
       "      <td>5</td>\n",
       "      <td>29</td>\n",
       "      <td>5</td>\n",
       "      <td>7</td>\n",
       "      <td>8</td>\n",
       "      <td>17</td>\n",
       "      <td>0</td>\n",
       "      <td>...</td>\n",
       "      <td>3</td>\n",
       "      <td>0</td>\n",
       "      <td>0</td>\n",
       "      <td>0</td>\n",
       "      <td>0</td>\n",
       "      <td>2</td>\n",
       "      <td>0</td>\n",
       "      <td>48</td>\n",
       "      <td>2</td>\n",
       "      <td>0</td>\n",
       "    </tr>\n",
       "    <tr>\n",
       "      <th>159567</th>\n",
       "      <td>6</td>\n",
       "      <td>2</td>\n",
       "      <td>0</td>\n",
       "      <td>2</td>\n",
       "      <td>5</td>\n",
       "      <td>2</td>\n",
       "      <td>2</td>\n",
       "      <td>5</td>\n",
       "      <td>3</td>\n",
       "      <td>0</td>\n",
       "      <td>...</td>\n",
       "      <td>0</td>\n",
       "      <td>0</td>\n",
       "      <td>4</td>\n",
       "      <td>0</td>\n",
       "      <td>0</td>\n",
       "      <td>0</td>\n",
       "      <td>0</td>\n",
       "      <td>18</td>\n",
       "      <td>2</td>\n",
       "      <td>0</td>\n",
       "    </tr>\n",
       "    <tr>\n",
       "      <th>159568</th>\n",
       "      <td>5</td>\n",
       "      <td>0</td>\n",
       "      <td>3</td>\n",
       "      <td>0</td>\n",
       "      <td>4</td>\n",
       "      <td>1</td>\n",
       "      <td>1</td>\n",
       "      <td>2</td>\n",
       "      <td>6</td>\n",
       "      <td>0</td>\n",
       "      <td>...</td>\n",
       "      <td>1</td>\n",
       "      <td>0</td>\n",
       "      <td>2</td>\n",
       "      <td>0</td>\n",
       "      <td>0</td>\n",
       "      <td>0</td>\n",
       "      <td>0</td>\n",
       "      <td>12</td>\n",
       "      <td>2</td>\n",
       "      <td>0</td>\n",
       "    </tr>\n",
       "    <tr>\n",
       "      <th>159569</th>\n",
       "      <td>6</td>\n",
       "      <td>0</td>\n",
       "      <td>1</td>\n",
       "      <td>4</td>\n",
       "      <td>10</td>\n",
       "      <td>1</td>\n",
       "      <td>0</td>\n",
       "      <td>5</td>\n",
       "      <td>6</td>\n",
       "      <td>0</td>\n",
       "      <td>...</td>\n",
       "      <td>0</td>\n",
       "      <td>0</td>\n",
       "      <td>1</td>\n",
       "      <td>0</td>\n",
       "      <td>0</td>\n",
       "      <td>0</td>\n",
       "      <td>0</td>\n",
       "      <td>24</td>\n",
       "      <td>0</td>\n",
       "      <td>0</td>\n",
       "    </tr>\n",
       "    <tr>\n",
       "      <th>159570</th>\n",
       "      <td>16</td>\n",
       "      <td>2</td>\n",
       "      <td>2</td>\n",
       "      <td>11</td>\n",
       "      <td>14</td>\n",
       "      <td>2</td>\n",
       "      <td>4</td>\n",
       "      <td>7</td>\n",
       "      <td>9</td>\n",
       "      <td>0</td>\n",
       "      <td>...</td>\n",
       "      <td>1</td>\n",
       "      <td>0</td>\n",
       "      <td>6</td>\n",
       "      <td>0</td>\n",
       "      <td>0</td>\n",
       "      <td>0</td>\n",
       "      <td>0</td>\n",
       "      <td>38</td>\n",
       "      <td>1</td>\n",
       "      <td>0</td>\n",
       "    </tr>\n",
       "  </tbody>\n",
       "</table>\n",
       "<p>159571 rows × 98 columns</p>\n",
       "</div>"
      ],
      "text/plain": [
       "         a  b   c   d   e   f  g   h   i  j  ...  ,  <  \\.  >  /  \\?  \\\\       \\\n",
       "0       16  0   4  10  33   2  1   5   6  1  ...  1  0   5  0  0   1   0   41   \n",
       "1        7  1   4   1   4   0  2   4   3  0  ...  2  0   2  0  0   0   0   17   \n",
       "2       18  1   3   4  17   4  7   7  12  1  ...  1  0   3  0  0   0   0   41   \n",
       "3       39  5  15  14  72  16  7  12  30  0  ...  2  0   3  0  0   0   0  111   \n",
       "4        5  1   2   0   7   0  1   4   1  0  ...  2  0   1  0  0   1   0   12   \n",
       "...     .. ..  ..  ..  ..  .. ..  ..  .. ..  ... .. ..  .. .. ..  ..  ..  ...   \n",
       "159566  13  1  12   5  29   5  7   8  17  0  ...  3  0   0  0  0   2   0   48   \n",
       "159567   6  2   0   2   5   2  2   5   3  0  ...  0  0   4  0  0   0   0   18   \n",
       "159568   5  0   3   0   4   1  1   2   6  0  ...  1  0   2  0  0   0   0   12   \n",
       "159569   6  0   1   4  10   1  0   5   6  0  ...  0  0   1  0  0   0   0   24   \n",
       "159570  16  2   2  11  14   2  4   7   9  0  ...  1  0   6  0  0   0   0   38   \n",
       "\n",
       "        \\n  \\t  \n",
       "0        1   0  \n",
       "1        0   0  \n",
       "2        0   0  \n",
       "3        4   0  \n",
       "4        0   0  \n",
       "...     ..  ..  \n",
       "159566   2   0  \n",
       "159567   2   0  \n",
       "159568   2   0  \n",
       "159569   0   0  \n",
       "159570   1   0  \n",
       "\n",
       "[159571 rows x 98 columns]"
      ]
     },
     "execution_count": 43,
     "metadata": {},
     "output_type": "execute_result"
    }
   ],
   "source": [
    "def get_counts(df):\n",
    "    charset = [\n",
    "           'a', 'b', 'c', 'd', 'e', 'f', 'g', 'h', 'i', 'j', 'k', 'l', 'm', 'n', 'o', 'p', 'q', 'r', 's', 't', 'u', 'v', 'w', 'x', 'y', 'z',\n",
    "           'A', 'B', 'C', 'D', 'E', 'F', 'G', 'H', 'I', 'J', 'K', 'L', 'M', 'N', 'O', 'P', 'Q', 'R', 'S', 'T', 'U', 'V', 'W', 'X', 'Y', 'Z',\n",
    "           '1', '2', '3', '4', '5', '6', '7', '8', '9', '0',\n",
    "           '`', '~', '!', '@', '#', '\\\\$', '%', '\\\\^', '&', '\\\\*', '\\\\(', '\\\\)', '-', '=', '_', '\\\\+', '{', '}', '\\\\[', ']', '\\\\\\\\', '\\\\|',\n",
    "           ';', ':', \"'\", '\"', ',', '<', '\\\\.', '>', '/', '\\\\?', '\\\\\\\\', ' ', '\\n', '\\t']\n",
    "    char_counts = [df.comment_text.str.count(char) for char in charset]\n",
    "    return pd.DataFrame(data=np.array([count.to_numpy() for count in char_counts]).transpose(), columns=charset)\n",
    "counts_train = get_counts(train)\n",
    "counts_test = get_counts(test)\n",
    "counts_train"
   ]
  },
  {
   "cell_type": "code",
   "execution_count": 44,
   "metadata": {},
   "outputs": [],
   "source": [
    "counts_train.to_csv(\"train_char_counts.csv\")\n",
    "counts_test.to_csv(\"test_char_counts.csv\")"
   ]
  },
  {
   "cell_type": "markdown",
   "metadata": {},
   "source": [
    "Preprocess comments into BERT tokens"
   ]
  },
  {
   "cell_type": "code",
   "execution_count": 18,
   "metadata": {},
   "outputs": [],
   "source": [
    "import torch\n",
    "from transformers import *"
   ]
  },
  {
   "cell_type": "code",
   "execution_count": 6,
   "metadata": {},
   "outputs": [
    {
     "data": {
      "application/vnd.jupyter.widget-view+json": {
       "model_id": "9cecb25a76b94795b0fd7b7103e6a774",
       "version_major": 2,
       "version_minor": 0
      },
      "text/plain": [
       "HBox(children=(FloatProgress(value=0.0, description='Downloading', max=213450.0, style=ProgressStyle(descripti…"
      ]
     },
     "metadata": {},
     "output_type": "display_data"
    },
    {
     "name": "stdout",
     "output_type": "stream",
     "text": [
      "\n"
     ]
    }
   ],
   "source": [
    "tokenizer = BertTokenizer.from_pretrained('bert-base-cased')\n",
    "\n",
    "encode = lambda x: tokenizer.encode(x, add_special_tokens=True, max_length=10000)"
   ]
  },
  {
   "cell_type": "code",
   "execution_count": 7,
   "metadata": {},
   "outputs": [],
   "source": [
    "train_encoded = train.comment_text.apply(encode)\n",
    "test_encoded = test.comment_text.apply(encode)"
   ]
  },
  {
   "cell_type": "code",
   "execution_count": 8,
   "metadata": {},
   "outputs": [
    {
     "data": {
      "text/plain": [
       "0         [101, 16409, 1643, 20592, 2116, 2009, 1103, 14...\n",
       "1         [101, 141, 112, 170, 2246, 2246, 106, 1124, 26...\n",
       "2         [101, 4403, 1299, 117, 146, 112, 182, 1541, 11...\n",
       "3         [101, 107, 3046, 146, 1169, 112, 189, 1294, 12...\n",
       "4         [101, 1192, 117, 6442, 117, 1132, 1139, 6485, ...\n",
       "                                ...                        \n",
       "159566    [101, 107, 131, 131, 131, 131, 131, 1262, 1111...\n",
       "159567    [101, 1192, 1431, 1129, 16155, 1104, 3739, 133...\n",
       "159568    [101, 156, 18965, 6198, 12189, 1306, 117, 1175...\n",
       "159569    [101, 1262, 1122, 2736, 1176, 1122, 1108, 2140...\n",
       "159570    [101, 107, 1262, 119, 119, 119, 146, 1541, 127...\n",
       "Name: comment_text, Length: 159571, dtype: object"
      ]
     },
     "execution_count": 8,
     "metadata": {},
     "output_type": "execute_result"
    }
   ],
   "source": [
    "train_encoded"
   ]
  },
  {
   "cell_type": "code",
   "execution_count": 25,
   "metadata": {},
   "outputs": [],
   "source": [
    "def split(tokenized):\n",
    "    sections = []\n",
    "    positions = []\n",
    "    start = 0\n",
    "    while start + 512 < len(tokenized):\n",
    "        sections.append(np.array(tokenized[start:start+512]))\n",
    "        positions.append(list(range(start, start+512)))\n",
    "        start += 256\n",
    "  \n",
    "    last_section = tokenized[start:]\n",
    "    sections.append(last_section + [0]*(512-len(last_section)))\n",
    "    positions.append(list(range(start, start+512)))\n",
    "\n",
    "  \n",
    "    return np.array(sections), positions\n",
    "\n",
    "def separate(encoded, path_format):\n",
    "    split_comments = []\n",
    "    positions = []\n",
    "\n",
    "    for tokenized in encoded:\n",
    "        split_comment, position_arr = split(tokenized)\n",
    "        split_comments.append(split_comment)\n",
    "        positions.append(position_arr)\n",
    "    \n",
    "    input_ids = torch.cat([torch.LongTensor(split) for split in split_comments], dim=0)\n",
    "    flat_positions = torch.cat([torch.LongTensor(pos) for pos in positions], dim=0)\n",
    "    comment_ids = []\n",
    "    for i, comment in enumerate(split_comments):\n",
    "        comment_ids += [i]*comment.shape[0]\n",
    "    comment_ids = torch.LongTensor(comment_ids)\n",
    "    \n",
    "    torch.save(input_ids, path_format.format(\"_input_ids\"))\n",
    "    torch.save(flat_positions, path_format.format(\"_positions\"))\n",
    "    torch.save(comment_ids, path_format.format(\"_ids\"))\n",
    "\n",
    "separate(train_encoded, \"train{}.pt\")\n",
    "separate(test_encoded, \"test{}.pt\")"
   ]
  },
  {
   "cell_type": "code",
   "execution_count": 28,
   "metadata": {},
   "outputs": [],
   "source": [
    "train_targets = torch.Tensor(train[columns].to_numpy())\n",
    "test_targets = torch.Tensor(test[columns].to_numpy())\n",
    "\n",
    "torch.save(train_targets, \"train_targets.pt\")\n",
    "torch.save(test_targets, \"test_targets.pt\")"
   ]
  }
 ],
 "metadata": {
  "kernelspec": {
   "display_name": "Python 3",
   "language": "python",
   "name": "python3"
  },
  "language_info": {
   "codemirror_mode": {
    "name": "ipython",
    "version": 3
   },
   "file_extension": ".py",
   "mimetype": "text/x-python",
   "name": "python",
   "nbconvert_exporter": "python",
   "pygments_lexer": "ipython3",
   "version": "3.7.6"
  }
 },
 "nbformat": 4,
 "nbformat_minor": 4
}
