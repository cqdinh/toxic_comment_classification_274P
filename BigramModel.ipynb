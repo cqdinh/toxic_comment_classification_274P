{
 "cells": [
  {
   "cell_type": "code",
   "execution_count": 1,
   "metadata": {},
   "outputs": [],
   "source": [
    "import numpy as np\n",
    "import torch\n",
    "from torch import nn\n",
    "import math\n",
    "from pprint import pprint\n",
    "import pandas as pd\n",
    "from tqdm.notebook import tqdm\n",
    "import seaborn as sns\n",
    "import matplotlib.pyplot as plt\n",
    "\n",
    "%matplotlib inline"
   ]
  },
  {
   "cell_type": "code",
   "execution_count": 2,
   "metadata": {},
   "outputs": [],
   "source": [
    "train = pd.read_csv(\"./train.csv\")\n",
    "test_comments = pd.read_csv(\"./test.csv\")\n",
    "test_labels = pd.read_csv(\"./test_labels.csv\")"
   ]
  },
  {
   "cell_type": "code",
   "execution_count": 3,
   "metadata": {},
   "outputs": [],
   "source": [
    "test = pd.merge(test_comments, test_labels, on=\"id\")"
   ]
  },
  {
   "cell_type": "code",
   "execution_count": 5,
   "metadata": {},
   "outputs": [],
   "source": [
    "import nltk\n",
    "from nltk import word_tokenize\n",
    "from nltk.util import ngrams"
   ]
  },
  {
   "cell_type": "code",
   "execution_count": 12,
   "metadata": {},
   "outputs": [],
   "source": [
    "columns = [\"toxic\", \"severe_toxic\", \"obscene\", \"threat\", \"insult\", \"identity_hate\"]"
   ]
  },
  {
   "cell_type": "code",
   "execution_count": 24,
   "metadata": {
    "scrolled": true
   },
   "outputs": [
    {
     "name": "stdout",
     "output_type": "stream",
     "text": [
      "0\n",
      "1000\n",
      "2000\n",
      "3000\n",
      "4000\n",
      "5000\n",
      "6000\n",
      "7000\n",
      "8000\n",
      "9000\n",
      "10000\n",
      "11000\n",
      "12000\n",
      "13000\n",
      "14000\n",
      "15000\n",
      "16000\n",
      "17000\n",
      "18000\n",
      "19000\n",
      "20000\n",
      "21000\n",
      "22000\n",
      "23000\n",
      "24000\n",
      "25000\n",
      "26000\n",
      "27000\n",
      "28000\n",
      "29000\n",
      "30000\n",
      "31000\n",
      "32000\n",
      "33000\n",
      "34000\n",
      "35000\n",
      "36000\n",
      "37000\n",
      "38000\n",
      "39000\n",
      "40000\n",
      "41000\n",
      "42000\n",
      "43000\n",
      "44000\n",
      "45000\n",
      "46000\n",
      "47000\n",
      "48000\n",
      "49000\n",
      "50000\n",
      "51000\n",
      "52000\n",
      "53000\n",
      "54000\n",
      "55000\n",
      "56000\n",
      "57000\n",
      "58000\n",
      "59000\n",
      "60000\n",
      "61000\n",
      "62000\n",
      "63000\n",
      "64000\n",
      "65000\n",
      "66000\n",
      "67000\n",
      "68000\n",
      "69000\n",
      "70000\n",
      "71000\n",
      "72000\n",
      "73000\n",
      "74000\n",
      "75000\n",
      "76000\n",
      "77000\n",
      "78000\n",
      "79000\n",
      "80000\n",
      "81000\n",
      "82000\n",
      "83000\n",
      "84000\n",
      "85000\n",
      "86000\n",
      "87000\n",
      "88000\n",
      "89000\n",
      "90000\n",
      "91000\n",
      "92000\n",
      "93000\n",
      "94000\n",
      "95000\n",
      "96000\n",
      "97000\n",
      "98000\n",
      "99000\n",
      "100000\n",
      "101000\n",
      "102000\n",
      "103000\n",
      "104000\n",
      "105000\n",
      "106000\n",
      "107000\n",
      "108000\n",
      "109000\n",
      "110000\n",
      "111000\n",
      "112000\n",
      "113000\n",
      "114000\n",
      "115000\n",
      "116000\n",
      "117000\n",
      "118000\n",
      "119000\n",
      "120000\n",
      "121000\n",
      "122000\n",
      "123000\n",
      "124000\n",
      "125000\n",
      "126000\n",
      "127000\n",
      "128000\n",
      "129000\n",
      "130000\n",
      "131000\n",
      "132000\n",
      "133000\n",
      "134000\n",
      "135000\n",
      "136000\n",
      "137000\n",
      "138000\n",
      "139000\n",
      "140000\n",
      "141000\n",
      "142000\n",
      "143000\n",
      "144000\n",
      "145000\n",
      "146000\n",
      "147000\n",
      "148000\n",
      "149000\n",
      "150000\n",
      "151000\n",
      "152000\n",
      "153000\n",
      "154000\n",
      "155000\n",
      "156000\n",
      "157000\n",
      "158000\n",
      "159000\n"
     ]
    }
   ],
   "source": [
    "counts = dict()\n",
    "for i in range(len(train)):\n",
    "    tokens = nltk.word_tokenize(train.comment_text[i])\n",
    "    targets = train.loc[i][columns].to_numpy()\n",
    "    if i % 1000 == 0:\n",
    "        print(i)\n",
    "    for token in tokens:\n",
    "        if token not in counts:\n",
    "            counts[token] = np.zeros(6)\n",
    "        counts[token] = counts[token] + targets"
   ]
  },
  {
   "cell_type": "code",
   "execution_count": 20,
   "metadata": {},
   "outputs": [
    {
     "data": {
      "text/plain": [
       "toxic            0\n",
       "severe_toxic     0\n",
       "obscene          0\n",
       "threat           0\n",
       "insult           0\n",
       "identity_hate    0\n",
       "Name: 100, dtype: int64"
      ]
     },
     "execution_count": 20,
     "metadata": {},
     "output_type": "execute_result"
    }
   ],
   "source": [
    "train[columns].loc[100]"
   ]
  },
  {
   "cell_type": "code",
   "execution_count": 27,
   "metadata": {},
   "outputs": [],
   "source": [
    "words = []\n",
    "probs = []\n",
    "for i, (k, v) in enumerate(counts.items()):\n",
    "    words.append(k)\n",
    "    probs.append(v)"
   ]
  },
  {
   "cell_type": "code",
   "execution_count": 33,
   "metadata": {},
   "outputs": [
    {
     "data": {
      "text/plain": [
       "array([[1.0, 0.0, 0.0, 0.0, 0.0, 0.0],\n",
       "       [726.0, 60.0, 342.0, 9.0, 292.0, 53.0],\n",
       "       [16845.0, 875.0, 8372.0, 312.0, 7108.0, 1177.0],\n",
       "       ...,\n",
       "       [0.0, 0.0, 0.0, 0.0, 0.0, 0.0],\n",
       "       [0.0, 0.0, 0.0, 0.0, 0.0, 0.0],\n",
       "       [0.0, 0.0, 0.0, 0.0, 0.0, 0.0]], dtype=object)"
      ]
     },
     "execution_count": 33,
     "metadata": {},
     "output_type": "execute_result"
    }
   ],
   "source": [
    "p = np.concatenate([prob.reshape(1, -1) for prob in probs], axis=0)\n",
    "p"
   ]
  },
  {
   "cell_type": "code",
   "execution_count": 35,
   "metadata": {},
   "outputs": [],
   "source": [
    "p = p / len(train)"
   ]
  },
  {
   "cell_type": "code",
   "execution_count": 45,
   "metadata": {},
   "outputs": [
    {
     "name": "stdout",
     "output_type": "stream",
     "text": [
      "[45 45 45 45 45 45]\n",
      "[ 31 182  31  24  31  31]\n",
      "[ 17  31  17  31 137  17]\n",
      "[  137    17   137    17    17 28368]\n",
      "[ 24 137 110 137 110 137]\n",
      "[  110    24    24 29247    24   110]\n",
      "[   2 1602    2 1558    2   74]\n",
      "[  67 1172   79  182  182   24]\n",
      "[   79   110    67    67    79 14036]\n",
      "[  112  9881   182  4806    67 72130]\n",
      "[  74 1558  112   79   74   79]\n",
      "[ 84 167  74 167  84   2]\n",
      "[  13 7430   84  420  420   67]\n",
      "[ 182 1177 1602    2  112 1121]\n",
      "[  420    79   420 17521   167 29247]\n",
      "[  72  420   13  110 1602   84]\n",
      "[   93    74   167   418    13 20547]\n",
      "[ 143 4382  143  804  123  112]\n",
      "[  167 29247    72    84    72   123]\n",
      "[ 123 4120   93 6794  143   13]\n",
      "[ 125 6408 1172  197   93 1602]\n",
      "[  15  144  123 1173 1172  167]\n",
      "[   20   540   125    13    15 16788]\n",
      "[1602    2   15 6405  125   72]\n",
      "[  34  512    6 2034 9881   15]\n",
      "[   81    84    34 99431 28368   420]\n",
      "[  140    67    20 50848     6   125]\n",
      "[    6  7967  9881 40761    34   182]\n",
      "[  138   186   140 40760    20   143]\n",
      "[   65  6683  1037 20797  1037 37788]\n",
      "[  71 9653   81 4775   81  512]\n",
      "[  48  569   71  125 1558 1787]\n",
      "[1037 1173 1558 1037  512   81]\n",
      "[   53  4699 28368    72   140  9881]\n",
      "[  107  1178   138 27097    71  4775]\n",
      "[    56 264266    381    123    138     93]\n",
      "[   163 177224     48     74    381 170482]\n",
      "[ 1172 12038    65   143    65   423]\n",
      "[ 423   13 1162   15   53 1037]\n",
      "[  381 16788   163    81    48 84180]\n",
      "[ 512 1176   53 4216  569  381]\n",
      "[   55 28368  1544  4618  1162  1162]\n",
      "[  301 21757    56  1162   163    34]\n",
      "[  175  1037  1177    34   423 21757]\n",
      "[28368  1544   512     6  5667   163]\n",
      "[ 124 4768 4382  112  301 4768]\n",
      "[  203  3661   107   107 14036  1544]\n",
      "[ 9881  4806  7430 10741   107   138]\n",
      "[ 804   15  569 9880 6915   20]\n",
      "[  121 19352   423   163 72130    53]\n"
     ]
    }
   ],
   "source": [
    "top = np.argsort(p, axis=0)[:500:-1]\n",
    "\n",
    "for i in range(50):\n",
    "    print(top[i])\n"
   ]
  },
  {
   "cell_type": "code",
   "execution_count": 47,
   "metadata": {},
   "outputs": [
    {
     "data": {
      "text/plain": [
       "'YOU'"
      ]
     },
     "execution_count": 47,
     "metadata": {},
     "output_type": "execute_result"
    }
   ],
   "source": [
    "words[182]"
   ]
  },
  {
   "cell_type": "code",
   "execution_count": 48,
   "metadata": {},
   "outputs": [
    {
     "data": {
      "text/plain": [
       "array([0.053737834568937964, 0.034404747729850665, 0.04121049564143861,\n",
       "       0.0035532772245583473, 0.04249519022880097, 0.002644590809106918],\n",
       "      dtype=object)"
      ]
     },
     "execution_count": 48,
     "metadata": {},
     "output_type": "execute_result"
    }
   ],
   "source": [
    "p[182]"
   ]
  },
  {
   "cell_type": "code",
   "execution_count": 50,
   "metadata": {},
   "outputs": [
    {
     "data": {
      "text/plain": [
       "array([0.09584448, 0.00999555, 0.05294822, 0.00299553, 0.04936361,\n",
       "       0.00880486])"
      ]
     },
     "execution_count": 50,
     "metadata": {},
     "output_type": "execute_result"
    }
   ],
   "source": [
    "label_probs = np.sum(train[columns].to_numpy(), axis=0) / len(train)\n",
    "label_probs"
   ]
  }
 ],
 "metadata": {
  "kernelspec": {
   "display_name": "Python 3",
   "language": "python",
   "name": "python3"
  },
  "language_info": {
   "codemirror_mode": {
    "name": "ipython",
    "version": 3
   },
   "file_extension": ".py",
   "mimetype": "text/x-python",
   "name": "python",
   "nbconvert_exporter": "python",
   "pygments_lexer": "ipython3",
   "version": "3.7.6"
  }
 },
 "nbformat": 4,
 "nbformat_minor": 4
}
