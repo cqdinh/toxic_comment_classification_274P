{
 "cells": [
  {
   "cell_type": "code",
   "execution_count": 1,
   "metadata": {},
   "outputs": [],
   "source": [
    "import numpy as np\n",
    "import torch\n",
    "from torch import nn\n",
    "import math\n",
    "from pprint import pprint\n",
    "import pandas as pd\n",
    "from tqdm.notebook import tqdm\n",
    "import seaborn as sns\n",
    "import matplotlib.pyplot as plt\n",
    "\n",
    "%matplotlib inline"
   ]
  },
  {
   "cell_type": "code",
   "execution_count": 2,
   "metadata": {},
   "outputs": [],
   "source": [
    "train = pd.read_csv(\"./train.csv\")\n",
    "test_comments = pd.read_csv(\"./test.csv\")\n",
    "test_labels = pd.read_csv(\"./test_labels.csv\")"
   ]
  },
  {
   "cell_type": "code",
   "execution_count": 3,
   "metadata": {},
   "outputs": [],
   "source": [
    "test = pd.merge(test_comments, test_labels, on=\"id\")"
   ]
  },
  {
   "cell_type": "code",
   "execution_count": 4,
   "metadata": {},
   "outputs": [
    {
     "data": {
      "text/html": [
       "<div>\n",
       "<style scoped>\n",
       "    .dataframe tbody tr th:only-of-type {\n",
       "        vertical-align: middle;\n",
       "    }\n",
       "\n",
       "    .dataframe tbody tr th {\n",
       "        vertical-align: top;\n",
       "    }\n",
       "\n",
       "    .dataframe thead th {\n",
       "        text-align: right;\n",
       "    }\n",
       "</style>\n",
       "<table border=\"1\" class=\"dataframe\">\n",
       "  <thead>\n",
       "    <tr style=\"text-align: right;\">\n",
       "      <th></th>\n",
       "      <th>id</th>\n",
       "      <th>comment_text</th>\n",
       "      <th>toxic</th>\n",
       "      <th>severe_toxic</th>\n",
       "      <th>obscene</th>\n",
       "      <th>threat</th>\n",
       "      <th>insult</th>\n",
       "      <th>identity_hate</th>\n",
       "      <th>nontoxic</th>\n",
       "    </tr>\n",
       "  </thead>\n",
       "  <tbody>\n",
       "    <tr>\n",
       "      <th>0</th>\n",
       "      <td>00001cee341fdb12</td>\n",
       "      <td>Yo bitch Ja Rule is more succesful then you'll...</td>\n",
       "      <td>0</td>\n",
       "      <td>0</td>\n",
       "      <td>0</td>\n",
       "      <td>0</td>\n",
       "      <td>0</td>\n",
       "      <td>0</td>\n",
       "      <td>1</td>\n",
       "    </tr>\n",
       "    <tr>\n",
       "      <th>1</th>\n",
       "      <td>0000247867823ef7</td>\n",
       "      <td>== From RfC == \\n\\n The title is fine as it is...</td>\n",
       "      <td>0</td>\n",
       "      <td>0</td>\n",
       "      <td>0</td>\n",
       "      <td>0</td>\n",
       "      <td>0</td>\n",
       "      <td>0</td>\n",
       "      <td>1</td>\n",
       "    </tr>\n",
       "    <tr>\n",
       "      <th>2</th>\n",
       "      <td>00013b17ad220c46</td>\n",
       "      <td>\" \\n\\n == Sources == \\n\\n * Zawe Ashton on Lap...</td>\n",
       "      <td>0</td>\n",
       "      <td>0</td>\n",
       "      <td>0</td>\n",
       "      <td>0</td>\n",
       "      <td>0</td>\n",
       "      <td>0</td>\n",
       "      <td>1</td>\n",
       "    </tr>\n",
       "    <tr>\n",
       "      <th>3</th>\n",
       "      <td>00017563c3f7919a</td>\n",
       "      <td>:If you have a look back at the source, the in...</td>\n",
       "      <td>0</td>\n",
       "      <td>0</td>\n",
       "      <td>0</td>\n",
       "      <td>0</td>\n",
       "      <td>0</td>\n",
       "      <td>0</td>\n",
       "      <td>1</td>\n",
       "    </tr>\n",
       "    <tr>\n",
       "      <th>4</th>\n",
       "      <td>00017695ad8997eb</td>\n",
       "      <td>I don't anonymously edit articles at all.</td>\n",
       "      <td>0</td>\n",
       "      <td>0</td>\n",
       "      <td>0</td>\n",
       "      <td>0</td>\n",
       "      <td>0</td>\n",
       "      <td>0</td>\n",
       "      <td>1</td>\n",
       "    </tr>\n",
       "    <tr>\n",
       "      <th>...</th>\n",
       "      <td>...</td>\n",
       "      <td>...</td>\n",
       "      <td>...</td>\n",
       "      <td>...</td>\n",
       "      <td>...</td>\n",
       "      <td>...</td>\n",
       "      <td>...</td>\n",
       "      <td>...</td>\n",
       "      <td>...</td>\n",
       "    </tr>\n",
       "    <tr>\n",
       "      <th>153159</th>\n",
       "      <td>fffcd0960ee309b5</td>\n",
       "      <td>. \\n i totally agree, this stuff is nothing bu...</td>\n",
       "      <td>0</td>\n",
       "      <td>0</td>\n",
       "      <td>0</td>\n",
       "      <td>0</td>\n",
       "      <td>0</td>\n",
       "      <td>0</td>\n",
       "      <td>1</td>\n",
       "    </tr>\n",
       "    <tr>\n",
       "      <th>153160</th>\n",
       "      <td>fffd7a9a6eb32c16</td>\n",
       "      <td>== Throw from out field to home plate. == \\n\\n...</td>\n",
       "      <td>0</td>\n",
       "      <td>0</td>\n",
       "      <td>0</td>\n",
       "      <td>0</td>\n",
       "      <td>0</td>\n",
       "      <td>0</td>\n",
       "      <td>1</td>\n",
       "    </tr>\n",
       "    <tr>\n",
       "      <th>153161</th>\n",
       "      <td>fffda9e8d6fafa9e</td>\n",
       "      <td>\" \\n\\n == Okinotorishima categories == \\n\\n I ...</td>\n",
       "      <td>0</td>\n",
       "      <td>0</td>\n",
       "      <td>0</td>\n",
       "      <td>0</td>\n",
       "      <td>0</td>\n",
       "      <td>0</td>\n",
       "      <td>1</td>\n",
       "    </tr>\n",
       "    <tr>\n",
       "      <th>153162</th>\n",
       "      <td>fffe8f1340a79fc2</td>\n",
       "      <td>\" \\n\\n == \"\"One of the founding nations of the...</td>\n",
       "      <td>0</td>\n",
       "      <td>0</td>\n",
       "      <td>0</td>\n",
       "      <td>0</td>\n",
       "      <td>0</td>\n",
       "      <td>0</td>\n",
       "      <td>1</td>\n",
       "    </tr>\n",
       "    <tr>\n",
       "      <th>153163</th>\n",
       "      <td>ffffce3fb183ee80</td>\n",
       "      <td>\" \\n :::Stop already. Your bullshit is not wel...</td>\n",
       "      <td>0</td>\n",
       "      <td>0</td>\n",
       "      <td>0</td>\n",
       "      <td>0</td>\n",
       "      <td>0</td>\n",
       "      <td>0</td>\n",
       "      <td>1</td>\n",
       "    </tr>\n",
       "  </tbody>\n",
       "</table>\n",
       "<p>153164 rows × 9 columns</p>\n",
       "</div>"
      ],
      "text/plain": [
       "                      id                                       comment_text  \\\n",
       "0       00001cee341fdb12  Yo bitch Ja Rule is more succesful then you'll...   \n",
       "1       0000247867823ef7  == From RfC == \\n\\n The title is fine as it is...   \n",
       "2       00013b17ad220c46  \" \\n\\n == Sources == \\n\\n * Zawe Ashton on Lap...   \n",
       "3       00017563c3f7919a  :If you have a look back at the source, the in...   \n",
       "4       00017695ad8997eb          I don't anonymously edit articles at all.   \n",
       "...                  ...                                                ...   \n",
       "153159  fffcd0960ee309b5  . \\n i totally agree, this stuff is nothing bu...   \n",
       "153160  fffd7a9a6eb32c16  == Throw from out field to home plate. == \\n\\n...   \n",
       "153161  fffda9e8d6fafa9e  \" \\n\\n == Okinotorishima categories == \\n\\n I ...   \n",
       "153162  fffe8f1340a79fc2  \" \\n\\n == \"\"One of the founding nations of the...   \n",
       "153163  ffffce3fb183ee80  \" \\n :::Stop already. Your bullshit is not wel...   \n",
       "\n",
       "        toxic  severe_toxic  obscene  threat  insult  identity_hate  nontoxic  \n",
       "0           0             0        0       0       0              0         1  \n",
       "1           0             0        0       0       0              0         1  \n",
       "2           0             0        0       0       0              0         1  \n",
       "3           0             0        0       0       0              0         1  \n",
       "4           0             0        0       0       0              0         1  \n",
       "...       ...           ...      ...     ...     ...            ...       ...  \n",
       "153159      0             0        0       0       0              0         1  \n",
       "153160      0             0        0       0       0              0         1  \n",
       "153161      0             0        0       0       0              0         1  \n",
       "153162      0             0        0       0       0              0         1  \n",
       "153163      0             0        0       0       0              0         1  \n",
       "\n",
       "[153164 rows x 9 columns]"
      ]
     },
     "execution_count": 4,
     "metadata": {},
     "output_type": "execute_result"
    }
   ],
   "source": [
    "test.toxic = test_labels.toxic.clip(0)\n",
    "test.severe_toxic = test_labels.severe_toxic.clip(0)\n",
    "test.obscene = test_labels.obscene.clip(0)\n",
    "test.threat = test_labels.threat.clip(0)\n",
    "test.insult = test_labels.insult.clip(0)\n",
    "test.identity_hate = test_labels.identity_hate.clip(0)\n",
    "\n",
    "def make_nontoxic(df):\n",
    "  df[\"nontoxic\"] = (1-df.toxic) * (1-df.severe_toxic) * (1 - df.obscene) * (1 - df.threat) * (1 - df.insult)\n",
    "\n",
    "make_nontoxic(train)\n",
    "make_nontoxic(test)\n",
    "test"
   ]
  },
  {
   "cell_type": "code",
   "execution_count": 5,
   "metadata": {},
   "outputs": [],
   "source": [
    "import nltk\n",
    "from nltk import word_tokenize\n",
    "from nltk.util import ngrams"
   ]
  },
  {
   "cell_type": "code",
   "execution_count": 6,
   "metadata": {},
   "outputs": [],
   "source": [
    "columns = [\"toxic\", \"severe_toxic\", \"obscene\", \"threat\", \"insult\", \"identity_hate\", \"nontoxic\"]"
   ]
  },
  {
   "cell_type": "code",
   "execution_count": 43,
   "metadata": {
    "scrolled": true
   },
   "outputs": [],
   "source": [
    "counts = dict()\n",
    "tokenize = lambda x: list(ngrams(list(x), 3))\n",
    "\n",
    "tokens = train.comment_text.apply(tokenize)\n",
    "targets = train[columns].to_numpy()\n",
    "n_tokens = tokens.apply(len)"
   ]
  },
  {
   "cell_type": "code",
   "execution_count": 44,
   "metadata": {},
   "outputs": [
    {
     "name": "stdout",
     "output_type": "stream",
     "text": [
      "0\n",
      "10000\n",
      "20000\n",
      "30000\n",
      "40000\n",
      "50000\n",
      "60000\n",
      "70000\n",
      "80000\n",
      "90000\n",
      "100000\n",
      "110000\n",
      "120000\n",
      "130000\n",
      "140000\n",
      "150000\n"
     ]
    }
   ],
   "source": [
    "for i, comment_tokens in enumerate(tokens):\n",
    "    if i % 10000 == 0:\n",
    "        print(i)\n",
    "    for token in comment_tokens:\n",
    "        if token not in counts:\n",
    "            counts[token] = np.zeros(7)\n",
    "        counts[token] = counts[token] + targets[i]"
   ]
  },
  {
   "cell_type": "code",
   "execution_count": 45,
   "metadata": {},
   "outputs": [],
   "source": [
    "words = []\n",
    "probs = []\n",
    "for i, (k, v) in enumerate(counts.items()):\n",
    "    words.append(k)\n",
    "    probs.append(v)"
   ]
  },
  {
   "cell_type": "code",
   "execution_count": 46,
   "metadata": {},
   "outputs": [
    {
     "data": {
      "text/plain": [
       "array([[2.2000e+01, 0.0000e+00, 1.5000e+01, ..., 1.0000e+01, 1.0000e+00,\n",
       "        8.2700e+02],\n",
       "       [2.2000e+02, 3.0000e+00, 9.8000e+01, ..., 7.5000e+01, 1.2000e+01,\n",
       "        8.6720e+03],\n",
       "       [1.3470e+03, 5.7000e+01, 6.2300e+02, ..., 5.1100e+02, 9.0000e+01,\n",
       "        3.4215e+04],\n",
       "       ...,\n",
       "       [0.0000e+00, 0.0000e+00, 0.0000e+00, ..., 0.0000e+00, 0.0000e+00,\n",
       "        1.0000e+00],\n",
       "       [0.0000e+00, 0.0000e+00, 0.0000e+00, ..., 0.0000e+00, 0.0000e+00,\n",
       "        1.0000e+00],\n",
       "       [0.0000e+00, 0.0000e+00, 0.0000e+00, ..., 0.0000e+00, 0.0000e+00,\n",
       "        1.0000e+00]])"
      ]
     },
     "execution_count": 46,
     "metadata": {},
     "output_type": "execute_result"
    }
   ],
   "source": [
    "p = np.concatenate([prob.reshape(1, -1) for prob in probs], axis=0)\n",
    "p"
   ]
  },
  {
   "cell_type": "code",
   "execution_count": 47,
   "metadata": {},
   "outputs": [
    {
     "data": {
      "text/plain": [
       "array([ 4484905,   720358,  2406147,   146144,  2168418,   430690,\n",
       "       57702764], dtype=int64)"
      ]
     },
     "execution_count": 47,
     "metadata": {},
     "output_type": "execute_result"
    }
   ],
   "source": [
    "total_tokens = np.sum(targets*n_tokens.to_numpy().reshape(-1, 1), axis=0)\n",
    "total_tokens"
   ]
  },
  {
   "cell_type": "code",
   "execution_count": 48,
   "metadata": {},
   "outputs": [
    {
     "data": {
      "text/plain": [
       "array([ 15294,   1595,   8449,    478,   7877,   1405, 143400],\n",
       "      dtype=int64)"
      ]
     },
     "execution_count": 48,
     "metadata": {},
     "output_type": "execute_result"
    }
   ],
   "source": [
    "label_counts = np.sum(targets, axis=0)\n",
    "label_counts"
   ]
  },
  {
   "cell_type": "code",
   "execution_count": 49,
   "metadata": {},
   "outputs": [],
   "source": [
    "p = p / np.sum(targets*n_tokens.to_numpy().reshape(-1, 1), axis=0)"
   ]
  },
  {
   "cell_type": "code",
   "execution_count": 50,
   "metadata": {},
   "outputs": [
    {
     "name": "stdout",
     "output_type": "stream",
     "text": [
      "[   15  4877   623  4877   623 17106    15]\n",
      "[623 819 622 135 622  15  16]\n",
      "[4877  288   15  623   15  623   17]\n",
      "[ 622 3871  624  622 4877  622  356]\n",
      "[   16   832   288  5156   624 36030   280]\n",
      "[  624   831    16   624    16 17604   405]\n",
      "[  280  3870  4877 36477   288 36029   357]\n",
      "[   17   623   280   365   280 36031   140]\n",
      "[ 354  622  354 8396  530 7841  354]\n",
      "[405 289 819 832 354 822 257]\n",
      "[ 530 3843   17  831  819  624  167]\n",
      "[ 167  833  530 1919  405  819   97]\n",
      "[   97  1524   289 10516    17    16   398]\n",
      "[  257  3872   405 24440   167   257   424]\n",
      "[ 356 4485 3843  796  289  160    8]\n",
      "[  357   624   167   280   832 12474   120]\n",
      "[ 135  818   97 2071   97  405  143]\n",
      "[ 55 272 257  15 831 280 623]\n",
      "[ 288 1340 1524  302  272  530  622]\n",
      "[  372   135   356 11958    55  3870   425]\n",
      "[  438 10380   832   354   257    34   185]\n",
      "[ 143  280 3871 2861 3843  288   55]\n",
      "[  272   530  3870 10514   438   378   438]\n",
      "[140 354 272 582 356 354 372]\n",
      "[424 796 831 356 135 167  75]\n",
      "[ 289  755  135  357 1524   17  530]\n",
      "[  34   15   55  167 3870 3145  520]\n",
      "[  378  2071   357 10513   357    97     7]\n",
      "[ 819  822  438  405 3871 4507   34]\n",
      "[  120  3890   143    16   833 28169   268]\n",
      "[  425  4731   372 10515   143 13952   378]\n",
      "[  832   405   424    97   372 39134   528]\n",
      "[ 129 2520   34  890  424 4826  371]\n",
      "[  185  3884   140 12472    34    55   129]\n",
      "[  831   645   833   272   378 17559   624]\n",
      "[  626    16   129   755 17106 58832   583]\n",
      "[ 580 1745  378  342  140 4811  797]\n",
      "[  520  2292   425  1193   273 19718   224]\n",
      "[  398   646 17106   273   120 58833   580]\n",
      "[ 3843  9461   273    17   129 49001   349]\n",
      "[ 184  644  185   34  755 4877  253]\n",
      "[ 582 5152 4485 3741  425  129  491]\n",
      "[273 647 582 355 580 356 135]\n",
      "[  371  8545   755   149 40427 20843   660]\n",
      "[ 291   34  796   55  185 3843  401]\n",
      "[ 1524 13085   359   291   796 20844   283]\n",
      "[   75 14441   626 13018   582  1524   184]\n",
      "[  779  8542   398 25785   520   357   626]\n",
      "[ 224 8396  520  288  822  143  255]\n",
      "[  268   257 40427  1006   184   289   642]\n"
     ]
    }
   ],
   "source": [
    "top = np.argsort(p, axis=0)[:500:-1]\n",
    "\n",
    "for i in range(50):\n",
    "    print(top[i])\n"
   ]
  },
  {
   "cell_type": "code",
   "execution_count": 54,
   "metadata": {},
   "outputs": [
    {
     "data": {
      "text/plain": [
       "('y', 'o', 'u')"
      ]
     },
     "execution_count": 54,
     "metadata": {},
     "output_type": "execute_result"
    }
   ],
   "source": [
    "words[623]"
   ]
  },
  {
   "cell_type": "code",
   "execution_count": 81,
   "metadata": {},
   "outputs": [
    {
     "data": {
      "text/plain": [
       "array([8.88998091e-03, 3.41545353e-02, 1.28144669e-02, 1.46902609e-02,\n",
       "       1.45218352e-02, 4.91852957e-03, 9.24038592e-05])"
      ]
     },
     "execution_count": 81,
     "metadata": {},
     "output_type": "execute_result"
    }
   ],
   "source": [
    "p[182]"
   ]
  },
  {
   "cell_type": "code",
   "execution_count": 55,
   "metadata": {},
   "outputs": [
    {
     "data": {
      "text/plain": [
       "array([0.09584448, 0.00999555, 0.05294822, 0.00299553, 0.04936361,\n",
       "       0.00880486, 0.89865953])"
      ]
     },
     "execution_count": 55,
     "metadata": {},
     "output_type": "execute_result"
    }
   ],
   "source": [
    "label_probs = np.sum(train[columns].to_numpy(), axis=0) / len(train)\n",
    "label_probs"
   ]
  },
  {
   "cell_type": "code",
   "execution_count": 60,
   "metadata": {},
   "outputs": [
    {
     "data": {
      "text/plain": [
       "0         [False, False, False, False, False, False]\n",
       "1         [False, False, False, False, False, False]\n",
       "2         [False, False, False, False, False, False]\n",
       "3         [False, False, False, False, False, False]\n",
       "4         [False, False, False, False, False, False]\n",
       "                             ...                    \n",
       "153159    [False, False, False, False, False, False]\n",
       "153160    [False, False, False, False, False, False]\n",
       "153161    [False, False, False, False, False, False]\n",
       "153162    [False, False, False, False, False, False]\n",
       "153163    [False, False, False, False, False, False]\n",
       "Name: comment_text, Length: 153164, dtype: object"
      ]
     },
     "execution_count": 60,
     "metadata": {},
     "output_type": "execute_result"
    }
   ],
   "source": [
    "def predict(comment):\n",
    "    tokens = tokenize(comment)\n",
    "    prob = np.ones(7)\n",
    "    for token in tokens:\n",
    "        if token in counts:\n",
    "            token_prob = counts[token] / total_tokens\n",
    "            prob *= token_prob\n",
    "        \n",
    "    pred = prob[:6] > prob[6]\n",
    "    return pred\n",
    "\n",
    "results = test.comment_text.apply(predict)\n",
    "results"
   ]
  },
  {
   "cell_type": "code",
   "execution_count": 61,
   "metadata": {},
   "outputs": [],
   "source": [
    "pred = np.concatenate([result.reshape(1, -1).astype(np.int32) for result in results], axis=0)\n",
    "true = test[columns[:-1]].to_numpy()"
   ]
  },
  {
   "cell_type": "code",
   "execution_count": 34,
   "metadata": {},
   "outputs": [],
   "source": [
    "from sklearn.metrics import roc_auc_score"
   ]
  },
  {
   "cell_type": "code",
   "execution_count": 58,
   "metadata": {},
   "outputs": [],
   "source": [
    "def calc_auc(pred, target):\n",
    "    result = []\n",
    "    for i in range(pred.shape[1]):\n",
    "        if len(np.unique(target[:,i])) == 2:\n",
    "            result.append(roc_auc_score(target[:,i], pred[:,i], labels=[0,1]))\n",
    "        else:\n",
    "            extra = np.array([1-target[0,i]])\n",
    "            target_i = np.concatenate((target[:,i], extra))\n",
    "            pred_i = np.concatenate((pred[:,i], extra))\n",
    "            result.append(roc_auc_score(target_i, pred_i, labels=[0,1]))\n",
    "            \n",
    "    \n",
    "    return result"
   ]
  },
  {
   "cell_type": "code",
   "execution_count": 62,
   "metadata": {},
   "outputs": [
    {
     "data": {
      "text/plain": [
       "[0.6140203261729466,\n",
       " 0.5593260645604856,\n",
       " 0.6114013956553215,\n",
       " 0.5403327131777277,\n",
       " 0.6000316547621218,\n",
       " 0.5680884784660163]"
      ]
     },
     "execution_count": 62,
     "metadata": {},
     "output_type": "execute_result"
    }
   ],
   "source": [
    "calc_auc(pred, true)"
   ]
  }
 ],
 "metadata": {
  "kernelspec": {
   "display_name": "Python 3",
   "language": "python",
   "name": "python3"
  },
  "language_info": {
   "codemirror_mode": {
    "name": "ipython",
    "version": 3
   },
   "file_extension": ".py",
   "mimetype": "text/x-python",
   "name": "python",
   "nbconvert_exporter": "python",
   "pygments_lexer": "ipython3",
   "version": "3.7.6"
  }
 },
 "nbformat": 4,
 "nbformat_minor": 4
}
